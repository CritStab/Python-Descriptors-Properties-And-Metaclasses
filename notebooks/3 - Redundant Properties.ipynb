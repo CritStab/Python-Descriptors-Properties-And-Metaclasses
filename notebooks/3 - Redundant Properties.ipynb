{
 "metadata": {
  "name": ""
 },
 "nbformat": 3,
 "nbformat_minor": 0,
 "worksheets": [
  {
   "cells": [
    {
     "cell_type": "code",
     "collapsed": false,
     "input": [
      "from datetime import datetime\n",
      "\n",
      "\n",
      "class Person(object):\n",
      "\n",
      "    def __init__(self, first_name=\"John\", last_name=\"Doe\",\n",
      "                 year_of_birth=1979, salary=200, offspring=0):\n",
      "        self.first_name = first_name\n",
      "        self.last_name = last_name\n",
      "        self.year_of_birth = year_of_birth\n",
      "        self.salary = salary\n",
      "        self.offspring = offspring\n",
      "\n",
      "    @property\n",
      "    def age(self):\n",
      "        return datetime.now().year - self.year_of_birth\n",
      "\n",
      "    @age.setter\n",
      "    def age(self, new_age):\n",
      "        if new_age < 0:\n",
      "            raise ValueError(\"Only positive numbers allowed for age\")\n",
      "        self.year_of_birth = datetime.now().year - new_age\n",
      "\n",
      "    @property\n",
      "    def salary(self):\n",
      "        return self._salary\n",
      "\n",
      "    @salary.setter\n",
      "    def salary(self, value):\n",
      "        if value < 0:\n",
      "            raise ValueError(\"Only positive numbers allowed for age\")\n",
      "\n",
      "        self._salary = value\n",
      "\n",
      "    @property\n",
      "    def offspring(self):\n",
      "        return self._offspring\n",
      "\n",
      "    @offspring.setter\n",
      "    def offspring(self, value):\n",
      "        if value < 0:\n",
      "            raise ValueError(\"Only positive numbers allowed for age\")\n",
      "        self._offspring = value\n",
      "\n",
      "\n",
      "    # ... etc ...\n"
     ],
     "language": "python",
     "metadata": {},
     "outputs": []
    }
   ],
   "metadata": {}
  }
 ]
}