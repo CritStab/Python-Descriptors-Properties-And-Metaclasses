{
 "metadata": {
  "name": ""
 },
 "nbformat": 3,
 "nbformat_minor": 0,
 "worksheets": [
  {
   "cells": [
    {
     "cell_type": "code",
     "collapsed": false,
     "input": [
      "class Field(object):\n",
      "    def __init__(self, value=None, null=False, name=None, label_field=False, default=None):\n",
      "        self._value = value\n",
      "        self._null = null\n",
      "        self._name = name\n",
      "        self.default = default\n",
      "        self.data = dict()\n",
      "\n",
      "    def __str__(self):\n",
      "        return u'{0}: {1}'.format(self.__class__.__name__, self._value)\n",
      "\n",
      "    def __repr__(self):\n",
      "        return ('<{0}: {1}>').format(self.__class__.__name__, self._name)\n",
      "\n",
      "    def __setitem__(self, name, value):\n",
      "        setattr(self, name, value)\n",
      "\n",
      "    @property\n",
      "    def value(self):\n",
      "        return self._value\n",
      "\n",
      "    @property\n",
      "    def null(self):\n",
      "        return self._null\n",
      "\n",
      "    @property\n",
      "    def name(self):\n",
      "        return self._name\n",
      "\n",
      "    @name.setter\n",
      "    def name(self, value):\n",
      "        self._name = value\n",
      "\n",
      "    @name.setter\n",
      "    def name(self, value):\n",
      "        self._name = value\n",
      "\n",
      "    def __get__(self, instance, owner):\n",
      "        return self.data.get(instance, self.default)\n",
      "\n",
      "    def __set__(self, instance, value):\n",
      "        self.data[instance] = value"
     ],
     "language": "python",
     "metadata": {},
     "outputs": [],
     "prompt_number": 1
    },
    {
     "cell_type": "code",
     "collapsed": false,
     "input": [
      "class Options(object):\n",
      "\n",
      "    def __init__(self, meta=None):\n",
      "        if meta:\n",
      "            self.verbose_name = meta.verbose_name\n",
      "\n",
      "    def get_field_by_name(self, name):\n",
      "        match = None\n",
      "        for f in self.fields:\n",
      "            if f.name == name:\n",
      "                match = f\n",
      "        return match\n",
      "\n",
      "    @property\n",
      "    def fields(self):\n",
      "        return self._fields\n",
      "\n",
      "    @fields.setter\n",
      "    def fields(self, value):\n",
      "        self._fields = value\n"
     ],
     "language": "python",
     "metadata": {},
     "outputs": [],
     "prompt_number": 2
    },
    {
     "cell_type": "code",
     "collapsed": false,
     "input": [
      "class ModelBase(type):\n",
      "    def __new__(cls, name, bases, dct):\n",
      "        # Create a new instance of our type so we can start attaching things to it.\n",
      "        # This will eventually be the bits returned by this function\n",
      "        super_new = super(ModelBase, cls).__new__(cls, name, bases, dct)\n",
      "\n",
      "        # Create a new _meta object and process `class Meta`\n",
      "        meta = dct.pop('Meta', None)\n",
      "        _meta = Options(meta)\n",
      "\n",
      "        # Process fields and attach them to meta, give them a friendly name attr as well\n",
      "        _meta.fields = []\n",
      "        for nme, attr in super_new.__dict__.iteritems():\n",
      "            if isinstance(attr, Field):\n",
      "                attr['name'] = nme\n",
      "                _meta.fields.append(attr)\n",
      "\n",
      "        # Attach the _meta directly to the type we are returning, this gives us\n",
      "        # the django-like ability to do inspect fields on the class and instances\n",
      "        super_new._meta = _meta\n",
      "        return super_new\n",
      "\n",
      "\n",
      "class Model(object):\n",
      "    __metaclass__ = ModelBase"
     ],
     "language": "python",
     "metadata": {},
     "outputs": [],
     "prompt_number": 3
    },
    {
     "cell_type": "code",
     "collapsed": false,
     "input": [
      "class Person(Model):\n",
      "    first_name = Field(null=False)\n",
      "    last_name = Field()\n",
      "\n",
      "    class Meta:\n",
      "        verbose_name = \"My Model\"\n",
      "\n",
      "    def __repr__(self):\n",
      "        return \"<Person: {} {}>\".format(self.first_name, self.last_name)"
     ],
     "language": "python",
     "metadata": {},
     "outputs": [],
     "prompt_number": 4
    },
    {
     "cell_type": "code",
     "collapsed": false,
     "input": [
      "tj = Person()\n",
      "\n",
      "tj.first_name = \"TJ\"\n",
      "tj.last_name = \"Kells\"\n",
      "print(tj)"
     ],
     "language": "python",
     "metadata": {},
     "outputs": [
      {
       "output_type": "stream",
       "stream": "stdout",
       "text": [
        "<Person: TJ Kells>\n"
       ]
      }
     ],
     "prompt_number": 6
    },
    {
     "cell_type": "code",
     "collapsed": false,
     "input": [],
     "language": "python",
     "metadata": {},
     "outputs": []
    }
   ],
   "metadata": {}
  }
 ]
}