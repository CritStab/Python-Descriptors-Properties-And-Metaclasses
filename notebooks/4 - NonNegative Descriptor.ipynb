{
 "metadata": {
  "name": ""
 },
 "nbformat": 3,
 "nbformat_minor": 0,
 "worksheets": [
  {
   "cells": [
    {
     "cell_type": "code",
     "collapsed": false,
     "input": [
      "from datetime import datetime\n",
      "\n",
      "\n",
      "class NonNegative(object):\n",
      "    \"\"\"A descriptor that forbids negative values\"\"\"\n",
      "    def __init__(self, default):\n",
      "        self.default = default\n",
      "        self.data = dict()\n",
      "\n",
      "    def __get__(self, instance, owner):\n",
      "        return self.data.get(instance, self.default)\n",
      "\n",
      "    def __set__(self, instance, value):\n",
      "        if value < 0:\n",
      "            raise ValueError(\"Only positive numbers allowed for age\")\n",
      "        self.data[instance] = value\n",
      "\n",
      "\n",
      "class Person(object):\n",
      "\n",
      "    year_of_birth = NonNegative(40)\n",
      "    salary = NonNegative(200)\n",
      "    offspring = NonNegative(0)\n",
      "\n",
      "    def __init__(self, first_name=\"John\", last_name=\"Doe\",\n",
      "                 year_of_birth=1979, salary=200, offspring=0):\n",
      "        self.first_name = first_name\n",
      "        self.last_name = last_name\n",
      "        self.salary = salary\n",
      "        self.offspring = offspring\n",
      "\n",
      "    @property\n",
      "    def age(self):\n",
      "        return datetime.now().year - self.year_of_birth\n",
      "\n",
      "    @age.setter\n",
      "    def age(self, new_age):\n",
      "        if new_age < 0:\n",
      "            raise ValueError(\"Only positive numbers allowed for age\")\n",
      "        self.year_of_birth = datetime.now().year - new_age"
     ],
     "language": "python",
     "metadata": {},
     "outputs": []
    }
   ],
   "metadata": {}
  }
 ]
}