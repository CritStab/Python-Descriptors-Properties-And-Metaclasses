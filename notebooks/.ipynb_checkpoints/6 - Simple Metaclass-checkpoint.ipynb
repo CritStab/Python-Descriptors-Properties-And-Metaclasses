{
 "metadata": {
  "name": ""
 },
 "nbformat": 3,
 "nbformat_minor": 0,
 "worksheets": [
  {
   "cells": [
    {
     "cell_type": "code",
     "collapsed": false,
     "input": [
      "class MyMeta(type):\n",
      "    def __new__(cls, name, bases, dct):\n",
      "        super_new = super(MyMeta, cls).__new__(cls, name, bases, dct)\n",
      "        super_new.some_attr = \"Everyone gets one.\"\n",
      "        return super_new\n",
      "\n",
      "class MyKlass(object):\n",
      "    __metaclass__ = MyMeta\n",
      "    \n",
      "m = MyKlass()\n",
      "print(m.some_attr)"
     ],
     "language": "python",
     "metadata": {},
     "outputs": [
      {
       "output_type": "stream",
       "stream": "stdout",
       "text": [
        "Everyone gets one.\n"
       ]
      }
     ],
     "prompt_number": 2
    }
   ],
   "metadata": {}
  }
 ]
}