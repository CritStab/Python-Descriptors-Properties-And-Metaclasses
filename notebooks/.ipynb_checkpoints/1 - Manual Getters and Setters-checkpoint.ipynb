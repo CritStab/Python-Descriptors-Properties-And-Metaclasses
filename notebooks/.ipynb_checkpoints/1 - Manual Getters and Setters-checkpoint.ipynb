{
 "metadata": {
  "name": ""
 },
 "nbformat": 3,
 "nbformat_minor": 0,
 "worksheets": [
  {
   "cells": [
    {
     "cell_type": "code",
     "collapsed": false,
     "input": [
      "from datetime import datetime\n",
      "class Person(object):\n",
      "\n",
      "    def __init__(self, first_name=\"John\", last_name=\"Doe\", year_of_birth=1979):\n",
      "        self.first_name = first_name\n",
      "        self.last_name = last_name\n",
      "        self.year_of_birth = year_of_birth\n",
      "\n",
      "    def get_age(self):\n",
      "        return datetime.now().year - self.year_of_birth\n",
      "\n",
      "    def set_age(self, age):\n",
      "        self.year_of_birth = datetime.now().year - age\n",
      "\n",
      "jd = Person()\n",
      "print jd.get_age()\n",
      "jd.set_age(44)\n",
      "print jd.get_age()\n",
      "print jd.year_of_birth"
     ],
     "language": "python",
     "metadata": {},
     "outputs": [
      {
       "output_type": "stream",
       "stream": "stdout",
       "text": [
        "35\n",
        "44\n",
        "1970\n"
       ]
      }
     ],
     "prompt_number": 2
    },
    {
     "cell_type": "code",
     "collapsed": false,
     "input": [],
     "language": "python",
     "metadata": {},
     "outputs": []
    }
   ],
   "metadata": {}
  }
 ]
}