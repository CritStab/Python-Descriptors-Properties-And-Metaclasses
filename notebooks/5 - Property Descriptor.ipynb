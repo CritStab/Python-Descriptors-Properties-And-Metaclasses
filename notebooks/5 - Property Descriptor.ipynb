{
 "metadata": {
  "name": ""
 },
 "nbformat": 3,
 "nbformat_minor": 0,
 "worksheets": [
  {
   "cells": [
    {
     "cell_type": "code",
     "collapsed": false,
     "input": [
      "from datetime import datetime\n",
      "\n",
      "\n",
      "class Person(object):\n",
      "\n",
      "    def get_age(self):\n",
      "        return datetime.now().year - self.year_of_birth\n",
      "\n",
      "    def set_age(self, new_age):\n",
      "        self.year_of_birth = datetime.now().year - new_age\n",
      "\n",
      "    age = property(get_age, set_age, None, \"The calculated age of a Person instance\")\n",
      "\n",
      "    def __init__(self, first_name=\"John\", last_name=\"Doe\", year_of_birth=1979):\n",
      "        self.first_name = first_name\n",
      "        self.last_name = last_name\n",
      "        self.year_of_birth = year_of_birth\n",
      "\n",
      "jd = Person()\n",
      "assert jd.age == 35\n",
      "\n",
      "jd.age = 44\n",
      "assert jd.year_of_birth == 1970\n"
     ],
     "language": "python",
     "metadata": {},
     "outputs": []
    }
   ],
   "metadata": {}
  }
 ]
}