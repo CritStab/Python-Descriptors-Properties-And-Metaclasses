{
 "metadata": {
  "name": ""
 },
 "nbformat": 3,
 "nbformat_minor": 0,
 "worksheets": [
  {
   "cells": [
    {
     "cell_type": "code",
     "collapsed": false,
     "input": [
      "from datetime import datetime\n",
      "\n",
      "\n",
      "class Person(object):\n",
      "\n",
      "    def __init__(self, first_name=\"John\", last_name=\"Doe\", year_of_birth=1979):\n",
      "        self.first_name = first_name\n",
      "        self.last_name = last_name\n",
      "        self.year_of_birth = year_of_birth\n",
      "\n",
      "    @property\n",
      "    def age(self):\n",
      "        return datetime.now().year - self.year_of_birth\n",
      "\n",
      "    @age.setter\n",
      "    def age(self, new_age):\n",
      "        self.year_of_birth = datetime.now().year - new_age\n"
     ],
     "language": "python",
     "metadata": {},
     "outputs": []
    }
   ],
   "metadata": {}
  }
 ]
}